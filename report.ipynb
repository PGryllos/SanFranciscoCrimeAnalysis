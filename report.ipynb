{
 "cells": [
  {
   "cell_type": "markdown",
   "metadata": {},
   "source": [
    "# Crime Incident Analysis on Data from SFPD\n",
    "\n",
    "\n",
    "This report summarizes my findings on the crime incident data provided freely by the SFPD through the [portal](https://data.sfgov.org/), as part of my sumbission for the _Crime Analytics_ assignment for the course __Communicating Data Science Results__ by University of Washington, Coursera.\n",
    "\n",
    "\n",
    "#### important notes\n",
    " * The assumptions made for this study as well as the conclusions drawn are based on my personal intuition and abillity of interpretation, thus they should not be treated as valid scientific facts.\n",
    " * For the needs of this assignment I worked on a subset of the crime incident data that corresponds to the Summer of 2014. The scripts that supplement this report are tested upon that subset of the data and are not promised to be working on the whole dataset."
   ]
  },
  {
   "cell_type": "markdown",
   "metadata": {},
   "source": [
    "## Finding 1 \n",
    "\n",
    "---\n",
    "\n",
    "## Crime incidents happen more frequently near the city center\n",
    "\n",
    "The first assumption I made was whether the incidents happen more frequently near specific areas / districts. Since each report includes the specific geo coordinates, of the place where the incident happened, it was quite convenient to start by investigating that correlation.\n",
    "\n",
    "So, I started by plotting all the available data points using the Longitude values on the x-axis and the Latitude values on the y-axis. I also colored the data points based on the district they belong in. The script bellow produces that scatter plot."
   ]
  },
  {
   "cell_type": "code",
   "execution_count": 24,
   "metadata": {
    "collapsed": true
   },
   "outputs": [],
   "source": [
    "import pandas as pd\n",
    "import matplotlib.pyplot as plt\n",
    "import seaborn as sb\n",
    "\n",
    "\n",
    "marker_style = dict(color='red', linestyle=':', marker='D',\n",
    "                    markersize=5)\n",
    "\n",
    "\n",
    "sanfIncidents = pd.read_csv('sanfrancisco_incidents_summer_2014.csv')\n",
    "sb.lmplot('X', 'Y', data=sanfIncidents, hue='PdDistrict', fit_reg=False)\n",
    "plt.ylabel('Latitude')\n",
    "plt.xlabel('Longitude')\n",
    "plt.title('San Francisco incidents summer 2014 colored by district')\n",
    "\n",
    "# place marker at the city center\n",
    "plt.plot(-122.419416, 37.774929, **marker_style)\n",
    "\n",
    "plt.show()\n"
   ]
  },
  {
   "cell_type": "markdown",
   "metadata": {},
   "source": [
    "![alt text][density_1]\n",
    "\n",
    "[density_1]: http://raw.githubusercontent.com/PGryllos/SanFranciscoCrimeAnalysis/master/figures/figure_1_density.png"
   ]
  },
  {
   "cell_type": "markdown",
   "metadata": {},
   "source": [
    "The red marker incidates the coordinates of the city center.\n",
    "\n",
    "As you may be able to see there is is an increased density of data points near the city center. I believe that it is quite apparent that the areas near the center contribute more data points in comparison to the rest but it is not so clear whether that difference is significant or not. It is also quite difficult from that plot to understand exactly which color corresponds to which district. That makes it even harder, especially for someone who is not familiar with those areas, to make an estimation of the criminal activity level of each district.\n",
    "\n",
    "The next plot presents the distribution of data points (the two plots on top and on the right), on the two axes that were used previously (Longitute, Latitude), while also uses hue on the scatter plot to indicate areas with greater density."
   ]
  },
  {
   "cell_type": "code",
   "execution_count": 3,
   "metadata": {
    "collapsed": true
   },
   "outputs": [],
   "source": [
    "import pandas as pd\n",
    "import matplotlib.pyplot as plt\n",
    "import seaborn as sb\n",
    "\n",
    "\n",
    "sanfIncidents = pd.read_csv('sanfrancisco_incidents_summer_2014.csv')\n",
    "sb.jointplot('X', 'Y', data=sanfIncidents, color='r', kind='hex')\n",
    "\n",
    "plt.show()"
   ]
  },
  {
   "cell_type": "markdown",
   "metadata": {
    "collapsed": true
   },
   "source": [
    "![alt text][density_2]\n",
    "\n",
    "[density_2]: http://raw.githubusercontent.com/PGryllos/SanFranciscoCrimeAnalysis/master/figures/figure_2_density.png"
   ]
  },
  {
   "cell_type": "markdown",
   "metadata": {},
   "source": [
    "By inspecting the two distribution plots, it is much easier now to be sure that there is significant difference in the density of incidents that happen near the center. Specifically the two global maximums point us at (37.783, -122.407) and we can also see that the main activity happens around that area.\n",
    "\n",
    "But again information is not that easily infered from that plot. And that's mostly due to the use of geo coordinates, since it's very hard to have an aproximation of which district correspond to which area of the plot.\n",
    "\n",
    "For having a clearer overview of the levels of contribution, I estimated the amount of incidents corresponding to each district and created a bar chart"
   ]
  },
  {
   "cell_type": "code",
   "execution_count": null,
   "metadata": {
    "collapsed": false
   },
   "outputs": [],
   "source": [
    "from __future__ import division\n",
    "import pandas as pd\n",
    "import numpy as np\n",
    "import matplotlib.pyplot as plt\n",
    "import seaborn as sb\n",
    "\n",
    "\n",
    "sanfIncidents = pd.read_csv('sanfrancisco_incidents_summer_2014.csv')\n",
    "\n",
    "districtCount = sanfIncidents.groupby('PdDistrict').count()\n",
    "y_pos = np.arange(len(districtCount.index.values))\n",
    "total = sum(districtCount['IncidntNum'])\n",
    "districtCount['IncidntNum'] = districtCount['IncidntNum'].apply(\n",
    "                        lambda count:  count / total)\n",
    "\n",
    "plt.barh(y_pos, districtCount['IncidntNum'])\n",
    "plt.yticks(y_pos, districtCount.index.values)\n",
    "plt.xlabel('Percantile contribution %')\n",
    "plt.title(\n",
    "    'Incidents in San Francisco, per district, for Summer 2014')\n",
    "plt.show()"
   ]
  },
  {
   "cell_type": "markdown",
   "metadata": {},
   "source": [
    "![alt text][density_3]\n",
    "\n",
    "[density_3]: https://raw.githubusercontent.com/PGryllos/SanFranciscoCrimeAnalysis/master/figures/figure_3_density.png"
   ]
  },
  {
   "cell_type": "markdown",
   "metadata": {},
   "source": [
    "Now we can be sure that Southern is by far the district attracting more criminal activity since it hosts nearly 20% of all incidents. We can also see that the areas around Southern, like Northern, Mission, Central and Tenderloin also belong in the high-activity zone since together they host about 65% of all incidents.\n",
    "\n",
    "It's important to note that Tenderloin, although it's low on the percentage scale, it should definitely be considered as a high activity area. Although that didn't come up in the last plot, probably because Tenderloin is much smaller than the other districts, from the second plot it is clear that relatively to it's size it's one of the most, if not the most, active area.\n",
    "\n",
    "Given that there exist 10 different districts, the fact that 5 of them host 65% of all criminal activity doesn's seem that striking. But, have in mind that those five districts occupy nearly 1/3 of the whole map. So, the activity on those areas should be considered significantly higher than the rest."
   ]
  },
  {
   "cell_type": "markdown",
   "metadata": {},
   "source": [
    "## Finding 2\n",
    "\n",
    "---\n",
    "\n",
    "## Larceny / Theft is the most frequent crime in San Francisco\n",
    "\n",
    "Since we have identified the most active areas it would be valueable to find out what type of incidents happen in those areas. In a first attempt I created a scatter plot of the geographical distribution (similar to the first one) and colored the data points based on the incident type."
   ]
  },
  {
   "cell_type": "code",
   "execution_count": 44,
   "metadata": {
    "collapsed": true
   },
   "outputs": [],
   "source": [
    "import pandas as pd\n",
    "import matplotlib.pyplot as plt\n",
    "import seaborn as sb\n",
    "\n",
    "\n",
    "marker_style = dict(linestyle=':', marker='D', markersize=5, color='red')\n",
    "\n",
    "sanfIncidents = pd.read_csv('sanfrancisco_incidents_summer_2014.csv')\n",
    "sb.lmplot('X', 'Y', data=sanfIncidents, hue='Category', fit_reg=False)\n",
    "\n",
    "# place marker at the city center\n",
    "plt.plot(-122.419416, 37.774929, **marker_style)\n",
    "\n",
    "plt.ylabel('Latitude')\n",
    "plt.xlabel('Longitude')\n",
    "plt.title('San Francisco incidents summer 2014 colored by incident category')\n",
    "\n",
    "plt.show()"
   ]
  },
  {
   "cell_type": "markdown",
   "metadata": {},
   "source": [
    "![alt text][category_2]\n",
    "\n",
    "[category_2]: http://raw.githubusercontent.com/PGryllos/SanFranciscoCrimeAnalysis/master/figures/figure_5_category.png"
   ]
  },
  {
   "cell_type": "markdown",
   "metadata": {},
   "source": [
    "In that plot it is easy to see that the city center is dominated not by orange (Larceny/Theft) but by green and blue points. Though, it's not that easy to be sure exactly to which category corresponds each color.\n",
    "\n",
    "For that reason I thought it would be a good idea to see exactly in what frequency each crime is happening in a district. So, I created a bar chart that showcases the percentage that each crime type occupies. The districts that are taken into account are defined by the variable `__top__`. For example if `__top__ == 1` then only Southern will be included. If `__top__ == 10` then all districts will be included. "
   ]
  },
  {
   "cell_type": "code",
   "execution_count": 48,
   "metadata": {
    "collapsed": false
   },
   "outputs": [],
   "source": [
    "from __future__ import division\n",
    "import pandas as pd\n",
    "import numpy as np\n",
    "import matplotlib.pyplot as plt\n",
    "import seaborn as sb\n",
    "\n",
    "__top__ = 5\n",
    "\n",
    "# load data\n",
    "sanFIncidents = pd.read_csv('sanfrancisco_incidents_summer_2014.csv')\n",
    "# compute count of incidents per district\n",
    "districtCount = sanFIncidents.groupby('PdDistrict').count()\n",
    "# keep only the top==__top__ districts\n",
    "districtCount = districtCount.sort_values(\n",
    "        'IncidntNum', ascending=False).head(__top__)\n",
    "# filter out the incidents that happened outside of the top freq districts\n",
    "sanFIncidents = sanFIncidents[sanFIncidents['PdDistrict'].isin(\n",
    "        districtCount.index.values)]\n",
    "# compute count of incidents per incident Category\n",
    "categoryCount = sanFIncidents.groupby('Category').count()\n",
    "total = sum(categoryCount['IncidntNum'])\n",
    "categoryCount['IncidntNum'] = categoryCount['IncidntNum'].apply(\n",
    "                        lambda count:  count / total)\n",
    "districts = ''\n",
    "for district in districtCount.index.values:\n",
    "    districts = districts + str(district) + ', '\n",
    "districts = districts[:-2]\n",
    "title = ('Incidents for districts ' + districts + ' per incident category')\n",
    "y_pos = np.arange(len(categoryCount.index.values))\n",
    "plt.barh(y_pos, categoryCount['IncidntNum'])\n",
    "plt.yticks(y_pos, categoryCount.index.values)\n",
    "plt.xlabel('Percantile contribution %')\n",
    "plt.title(title)\n",
    "plt.show()"
   ]
  },
  {
   "cell_type": "markdown",
   "metadata": {
    "collapsed": true
   },
   "source": [
    "![alt text][category_1]\n",
    "\n",
    "[category_1]: http://raw.githubusercontent.com/PGryllos/SanFranciscoCrimeAnalysis/master/figures/figure_4_category.png"
   ]
  },
  {
   "cell_type": "markdown",
   "metadata": {},
   "source": [
    "Unfortunatelly some of the names are cropped but we can still see that Largency / Theft is by far the most frequent crime. Although for the plot above only the top 5, in sense of criminal activity, districts were taken into account a similar pattern is displayed if we take all districts into account. That came as a suprise since the colors indicated that of the green or blue categories should be on top. But apparently it's not.\n",
    "\n",
    "Then why did the blue and green points pop up instead of the orange ones? Probably that's because a lot of categories are represented in the plot by colors similar to green and blue and those data points in total create that effect which gives the false sense that one of those categories is the most frequent when in reality all of those categories together constitute a big part of the criminal activity. But the most frequent category is Larceny / Theft."
   ]
  },
  {
   "cell_type": "markdown",
   "metadata": {},
   "source": [
    "## Finding 3\n",
    "\n",
    "---\n",
    "\n",
    "## Crime activity increases as summer evolves"
   ]
  },
  {
   "cell_type": "code",
   "execution_count": 47,
   "metadata": {
    "collapsed": true
   },
   "outputs": [],
   "source": [
    "from __future__ import division\n",
    "import pandas as pd\n",
    "import matplotlib.pyplot as plt\n",
    "import seaborn as sns\n",
    "\n",
    "from datetime import datetime\n",
    "\n",
    "\n",
    "labels = {6: 'June', 7: 'July', 8: 'August'}\n",
    "\n",
    "inc = pd.read_csv('sanfrancisco_incidents_summer_2014.csv',\n",
    "                  na_values=['', ' '])\n",
    "inc.dropna()\n",
    "\n",
    "inc['Date'] = inc['Date'].apply(\n",
    "            lambda date: int(date.split('/')[0]))\n",
    "\n",
    "incCount = inc.groupby('Date').count()\n",
    "incCount['Month'] = incCount.index\n",
    "\n",
    "incCount['Month'] = incCount['Month'].apply(\n",
    "            lambda month: labels[month])\n",
    "\n",
    "sns.set_style(\"whitegrid\")\n",
    "sns.barplot(x='Month', y='IncidntNum', data=incCount, color='salmon',\n",
    "            saturation=.5)\n",
    "plt.ylabel('Count of incidents')\n",
    "plt.title('Count of incidents per month of summer 2014')\n",
    "plt.show()"
   ]
  },
  {
   "cell_type": "markdown",
   "metadata": {},
   "source": [
    "![alt text][month]\n",
    "\n",
    "[month]: https://raw.githubusercontent.com/PGryllos/SanFranciscoCrimeAnalysis/master/figures/figure_6_month.png"
   ]
  },
  {
   "cell_type": "markdown",
   "metadata": {
    "collapsed": true
   },
   "source": [
    "## Finding 4\n",
    "\n",
    "---\n",
    "\n",
    "## San Francisco is safer during early morning hours\n",
    "\n",
    "In a first attemp to inspect how criminal activity evolves during a whole day (24h) I categorized each incident by the value of the hour when it happened and counted the amount of incidents per hour of the day. That gave the following"
   ]
  },
  {
   "cell_type": "code",
   "execution_count": 4,
   "metadata": {
    "collapsed": true
   },
   "outputs": [],
   "source": [
    "import pandas as pd\n",
    "import matplotlib.pyplot as plt\n",
    "import seaborn as sns\n",
    "\n",
    "\n",
    "inc = pd.read_csv('sanfrancisco_incidents_summer_2014.csv',\n",
    "                  na_values=['', ' '])\n",
    "inc.dropna()\n",
    "\n",
    "inc['Time'] = inc['Time'].apply(\n",
    "            lambda dt: int(dt.split(':')[0]))\n",
    "\n",
    "incCount = inc.groupby('Time').count()\n",
    "incCount['Time'] = incCount.index\n",
    "sns.set_style(\"whitegrid\")\n",
    "\n",
    "plt.plot(incCount['Time'], incCount['IncidntNum'], '-')\n",
    "plt.ylabel('Count of incidents')\n",
    "plt.xlabel('hour of the day')\n",
    "plt.title('Count of incidents per hour of the day')\n",
    "plt.show()"
   ]
  },
  {
   "cell_type": "markdown",
   "metadata": {},
   "source": [
    "![alt text][month]\n",
    "\n",
    "[month]: https://raw.githubusercontent.com/PGryllos/SanFranciscoCrimeAnalysis/master/figures/figure_7_time.png"
   ]
  },
  {
   "cell_type": "markdown",
   "metadata": {},
   "source": [
    "From that plot it is obvious that the criminal activity drops during early morning hours (01-05am) and then increases until it reaches its peak late at afternoon, around 06pm. I was a bit surprised because I was expecting the exact opposite. So, I decided instead of an aggregated plot of all the categories to create a separate plot for each category that would showcase the category's evolution during a day. \n",
    "\n",
    "In the next script the `__top__` variable determines how many categories will be plotted based on their frequency.\n",
    "If you choose to experiment with the script and set a different value for the parameter have in mind that you should also adjust the subplot axes accordingly."
   ]
  },
  {
   "cell_type": "code",
   "execution_count": 5,
   "metadata": {
    "collapsed": true
   },
   "outputs": [],
   "source": [
    "import pandas as pd\n",
    "import numpy as np\n",
    "import matplotlib.pyplot as plt\n",
    "import seaborn as sb\n",
    "\n",
    "__top__ = 9\n",
    "\n",
    "# load data\n",
    "inc = pd.read_csv('sanfrancisco_incidents_summer_2014.csv')\n",
    "\n",
    "inc['Time'] = inc['Time'].apply(\n",
    "            lambda time: int(time.split(':')[0]))\n",
    "catCount = inc.groupby('Category').count()\n",
    "catCount = catCount.sort_values(\n",
    "           'IncidntNum', ascending=False).head(__top__)\n",
    "# filter out the incidents that do not belong in the top freq categories\n",
    "inc = inc.loc[inc['Category'].isin(catCount.index.values)]\n",
    "inc = inc.groupby(['Time', 'Category']).count()\n",
    "categories = pd.DataFrame(columns=[cat for cat in catCount.index.values])\n",
    "\n",
    "for cat in catCount.index.values:\n",
    "    for i in range(0, 24):\n",
    "        categories.loc[i, cat] = inc.ix[(i, cat), 1]\n",
    "\n",
    "fig, axes = plt.subplots(nrows=3, ncols=3, figsize=(9, 9))\n",
    "sb.set_style(\"whitegrid\")\n",
    "\n",
    "for i in [0, 1, 2]:\n",
    "    for j in [0, 1, 2]:\n",
    "        axes[i, j].plot(categories.index.values, categories.ix[:, i*3+j])\n",
    "        axes[i, j].set_title(catCount.index[i*3+j])\n",
    "\n",
    "fig.subplots_adjust(hspace=0.4)\n",
    "plt.show()"
   ]
  },
  {
   "cell_type": "markdown",
   "metadata": {},
   "source": [
    "![alt text][month]\n",
    "\n",
    "[month]: https://raw.githubusercontent.com/PGryllos/SanFranciscoCrimeAnalysis/master/figures/figure_8_category.png"
   ]
  },
  {
   "cell_type": "markdown",
   "metadata": {},
   "source": [
    "The original finding seems to be confirmed through that plot too. As you can see all categories have a significantly lower presense during the hours around 05am. Also most categories reach their peak around the same\n",
    "time late at afternoon.\n",
    "\n",
    "The only exception to the peaking rule seems to be the category Missing Person. I suspect that this is probably happening because of the procedure that must be followed in order for a person to be declared missing. When a family wants to declare someone missing, in most countries, they have to wait until the next morning until they can do so. But this is just a guess that I haven't investigated.\n",
    "\n",
    "Here ends my report. I hope I provided a coherent and informative post. I encourage you to install jupyter and run the scripts yourself if you haven't already done that. I wasn't familiar with the notebook at first but I found it very usefull and handy. I will more than happy to have your feedback.\n",
    "\n",
    "Thank you for your time. Best luck with the rest of the course."
   ]
  },
  {
   "cell_type": "markdown",
   "metadata": {},
   "source": [
    "__author__ \n",
    "\n",
    "---\n",
    "Prokopios Gryllos - gryllosprokopis@gmail.com"
   ]
  },
  {
   "cell_type": "markdown",
   "metadata": {
    "collapsed": true
   },
   "source": [
    "[density_1]: https://raw.githubusercontent.com/PGryllos/SanFranciscoCrimeAnalysis/master/figure_1_density.png \"Logo Title Text 1\"\n",
    "[density_2]: http://raw.githubusercontent.com/PGryllos/SanFranciscoCrimeAnalysis/master/figure_2_density.png \"Logo Title Text 1\""
   ]
  }
 ],
 "metadata": {
  "celltoolbar": "Raw Cell Format",
  "kernelspec": {
   "display_name": "Python 2",
   "language": "python",
   "name": "python2"
  },
  "language_info": {
   "codemirror_mode": {
    "name": "ipython",
    "version": 2
   },
   "file_extension": ".py",
   "mimetype": "text/x-python",
   "name": "python",
   "nbconvert_exporter": "python",
   "pygments_lexer": "ipython2",
   "version": "2.7.9"
  }
 },
 "nbformat": 4,
 "nbformat_minor": 0
}
