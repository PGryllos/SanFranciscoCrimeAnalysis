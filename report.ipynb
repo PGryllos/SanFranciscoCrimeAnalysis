{
 "cells": [
  {
   "cell_type": "markdown",
   "metadata": {},
   "source": [
    "# Crime Incident Analysis on Data from SFPD\n",
    "\n",
    "\n",
    "This report summarizes my findings on the crime incident data provided freely by the SFPD through the [portal](https://data.sfgov.org/), as part of my sumbission for the Crime Analytics assignment for the course __Communicating Data Science Results__ by University of Washington in coursera.\n",
    "\n",
    "\n",
    "#### important notes\n",
    " * The assumptions made for this study as well as the conclusions drawn are based on my personal intuition and abillity of interpretation, thus they should not be treated as valid scientific facts.\n",
    " * For the needs of this assignment I worked on a subset of the crime incident data that corresponds to the Summer of 2014. This scripts that suplement this report are tested upon that subset and are not promised to be working on the whole dataset."
   ]
  },
  {
   "cell_type": "markdown",
   "metadata": {},
   "source": [
    "## Finding 1 \n",
    "\n",
    "---\n",
    "\n",
    "## Crime incidents happen more frequently near the city center\n",
    "\n",
    "The first assumption I made was whether the incidents happen more frequently near specific areas / districts. Since each report includes the specific geoocordinates, of the place where the incident happened, it was quite convenient to start by investigating that correlation.\n",
    "\n",
    "So, I started by plotting all the available data points using the Longitute values on the x-axis and the Latitude values on the y-axis. I also colored the data points based on the district the belong in. The script bellow produces that scatter plot."
   ]
  },
  {
   "cell_type": "code",
   "execution_count": 4,
   "metadata": {
    "collapsed": true
   },
   "outputs": [],
   "source": [
    "import pandas as pd\n",
    "import matplotlib.pyplot as plt\n",
    "import seaborn as sb\n",
    "\n",
    "\n",
    "marker_style = dict(color='red', linestyle=':', marker='D',\n",
    "                    markersize=5)\n",
    "\n",
    "\n",
    "sanfIncidents = pd.read_csv('sanfrancisco_incidents_summer_2014.csv')\n",
    "sb.lmplot('X', 'Y', data=sanfIncidents, hue='PdDistrict', fit_reg=False)\n",
    "plt.ylabel('Latitude')\n",
    "plt.xlabel('Longitude')\n",
    "plt.title('San Francisco incidents summer 2014 colored by district')\n",
    "\n",
    "# place marker at the city center\n",
    "plt.plot(-122.419416, 37.774929, **marker_style)\n",
    "\n",
    "plt.show()\n"
   ]
  },
  {
   "cell_type": "markdown",
   "metadata": {},
   "source": [
    "The red marker incidates the coordinates of the city center.\n",
    "\n",
    "As you may be able to see there is is an increased density of data points near the city center. I believe that it is quite apparent that the areas near the center contribute more data points in comparison to the rest but it is not so clear whether that difference is significant or not. It is also quite difficult from that plot to understand exactly which color corresponds to which district. That makes it even harder, especially for someone who is not familiar with those areas, to make an estimation of the criminal activity level of each district.\n",
    "\n",
    "The next plot presents the distribution of data points (the two plots on top and on the right), on the two axes that were used previously (Longitute, Latitude), while also uses hue to on the scatter plot to indicate areas with greater density."
   ]
  },
  {
   "cell_type": "code",
   "execution_count": 2,
   "metadata": {
    "collapsed": true
   },
   "outputs": [],
   "source": [
    "import pandas as pd\n",
    "import matplotlib.pyplot as plt\n",
    "import seaborn as sb\n",
    "\n",
    "\n",
    "sanfIncidents = pd.read_csv('sanfrancisco_incidents_summer_2014.csv')\n",
    "sb.jointplot('X', 'Y', data=sanfIncidents, color='r', kind='hex')\n",
    "\n",
    "plt.show()"
   ]
  },
  {
   "cell_type": "markdown",
   "metadata": {},
   "source": [
    "By inspecting the two distribution plots, it is much easier now to be sure that there is significant difference in the density of incidents that happen near the center. Specifically the two global maximums point us at (37.783, -122.407) and we can also see that the main activity happens around that area.\n",
    "\n",
    "But again information is not that easily infered from that plot. And that's mostly due to the use of geoocordinates, since it's very hard to have an aproximation of which district correspond to which area of the plot.\n",
    "\n",
    "For having a clearer overview of the levels of contribution, I estimated the amount of incidents corresponding to each district and created the following plot"
   ]
  },
  {
   "cell_type": "code",
   "execution_count": 3,
   "metadata": {
    "collapsed": true
   },
   "outputs": [],
   "source": [
    "import pandas as pd\n",
    "import numpy as np\n",
    "import matplotlib.pyplot as plt\n",
    "import seaborn as sb\n",
    "\n",
    "\n",
    "sanfIncidents = pd.read_csv('sanfrancisco_incidents_summer_2014.csv')\n",
    "\n",
    "districtCount = sanfIncidents.groupby('PdDistrict').count()\n",
    "y_pos = np.arange(len(districtCount.index.values))\n",
    "plt.barh(y_pos, districtCount['IncidntNum'])\n",
    "plt.yticks(y_pos, districtCount.index.values)\n",
    "plt.title('Amount of incidents in San Francisco, per district, for Summer 2014')\n",
    "plt.show()"
   ]
  },
  {
   "cell_type": "markdown",
   "metadata": {},
   "source": [
    "Now we can see that Southern is by the far the one drawing more criminal activity. The  total count of incidents for Southern is above 5700 while the second most criminaly active district reaches 3700 incidents. \n",
    "\n",
    "Since we have identified the most active areas it would be valueable to find out what type of incidents happen in those areas. In a first rough attempt I used the script for the the first plot but instead of coloring based on the different districts, I colored each data point based on the type of incident. "
   ]
  },
  {
   "cell_type": "code",
   "execution_count": 7,
   "metadata": {
    "collapsed": true
   },
   "outputs": [],
   "source": [
    "import pandas as pd\n",
    "import matplotlib.pyplot as plt\n",
    "import seaborn as sb\n",
    "\n",
    "\n",
    "marker_style = dict(linestyle=':', marker='D', markersize=5, color='red')\n",
    "\n",
    "sanfIncidents = pd.read_csv('sanfrancisco_incidents_summer_2014.csv')\n",
    "sb.lmplot('X', 'Y', data=sanfIncidents, hue='Category', fit_reg=False)\n",
    "\n",
    "# place marker at the city center\n",
    "plt.plot(-122.419416, 37.774929, **marker_style)\n",
    "\n",
    "plt.ylabel('Latitude')\n",
    "plt.xlabel('Longitude')\n",
    "plt.title('San Francisco incidents summer 2014 colored by incident category')\n",
    "\n",
    "plt.show()"
   ]
  },
  {
   "cell_type": "markdown",
   "metadata": {},
   "source": [
    "In that plot it is easy to see that the city center is dominated by green and blue points. But given there are 30 different categories and some share similar colors it is hard to be sure if for example there are a lot of robberies or a lot of secondary codes going on in the city center.\n",
    "\n",
    "For that I estimated the amount of incidents per category and I made a bar plot that includes all categories the corresponding to the top high activity districts. The variable __top__ in the script controls the number of districts that will be included in the bar chart. For example if `__top__ ==  1` the only the most active district will be included, if `__top__ == 2` the two most active etc"
   ]
  },
  {
   "cell_type": "code",
   "execution_count": 10,
   "metadata": {
    "collapsed": true
   },
   "outputs": [],
   "source": [
    "import pandas as pd\n",
    "import numpy as np\n",
    "import matplotlib.pyplot as plt\n",
    "import seaborn as sb\n",
    "\n",
    "__top__ = 1\n",
    "\n",
    "# load data\n",
    "sanFIncidents = pd.read_csv('sanfrancisco_incidents_summer_2014.csv')\n",
    "# compute count of incidents per district\n",
    "districtCount = sanFIncidents.groupby('PdDistrict').count()\n",
    "# keep only the top==__top__ districts\n",
    "districtCount = districtCount.sort_values(\n",
    "        'IncidntNum', ascending=False).head(__top__)\n",
    "# filter out the incidents that happened outside of the top freq districts\n",
    "sanFIncidents = sanFIncidents[sanFIncidents['PdDistrict'].isin(\n",
    "        districtCount.index.values)]\n",
    "# compute count of incidents per incident Category\n",
    "categoryCount = sanFIncidents.groupby('Category').count()\n",
    "\n",
    "districts = ''\n",
    "for district in districtCount.index.values:\n",
    "    districts = districts + str(district) + ', '\n",
    "districts = districts[:-2]\n",
    "title = ('Amount of incidents for districts ' + districts +\n",
    "         ' per incident category')\n",
    "\n",
    "y_pos = np.arange(len(categoryCount.index.values))\n",
    "plt.barh(y_pos, categoryCount['IncidntNum'])\n",
    "plt.yticks(y_pos, categoryCount.index.values)\n",
    "plt.xlabel('amount of incidents')\n",
    "plt.title(title)\n",
    "plt.show()"
   ]
  },
  {
   "cell_type": "markdown",
   "metadata": {},
   "source": [
    "As we can see it's mostly gta i fasi man mou"
   ]
  },
  {
   "cell_type": "code",
   "execution_count": 12,
   "metadata": {
    "collapsed": true
   },
   "outputs": [],
   "source": [
    "from __future__ import division\n",
    "import pandas as pd\n",
    "import matplotlib.pyplot as plt\n",
    "import seaborn as sns\n",
    "\n",
    "from datetime import datetime\n",
    "\n",
    "\n",
    "labels = {6: 'June', 7: 'July', 8: 'August'}\n",
    "\n",
    "inc = pd.read_csv('sanfrancisco_incidents_summer_2014.csv',\n",
    "                  na_values=['', ' '])\n",
    "inc.dropna()\n",
    "\n",
    "inc['Date'] = inc['Date'].apply(\n",
    "            lambda date: int(date.split('/')[0]))\n",
    "\n",
    "incCount = inc.groupby('Date').count()\n",
    "incCount['Month'] = incCount.index\n",
    "\n",
    "incCount['Month'] = incCount['Month'].apply(\n",
    "            lambda month: labels[month])\n",
    "\n",
    "sns.set_style(\"whitegrid\")\n",
    "sns.barplot(x='Month', y='IncidntNum', data=incCount, color='salmon',\n",
    "            saturation=.5)\n",
    "plt.ylabel('Count of incidents')\n",
    "plt.title('Count of incidents per month of summer 2014')\n",
    "plt.show()"
   ]
  },
  {
   "cell_type": "code",
   "execution_count": null,
   "metadata": {
    "collapsed": true
   },
   "outputs": [],
   "source": []
  }
 ],
 "metadata": {
  "celltoolbar": "Raw Cell Format",
  "kernelspec": {
   "display_name": "Python 2",
   "language": "python",
   "name": "python2"
  },
  "language_info": {
   "codemirror_mode": {
    "name": "ipython",
    "version": 2
   },
   "file_extension": ".py",
   "mimetype": "text/x-python",
   "name": "python",
   "nbconvert_exporter": "python",
   "pygments_lexer": "ipython2",
   "version": "2.7.9"
  }
 },
 "nbformat": 4,
 "nbformat_minor": 0
}
